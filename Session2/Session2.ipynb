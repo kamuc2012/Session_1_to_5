{
 "cells": [
  {
   "cell_type": "markdown",
   "metadata": {},
   "source": [
    "# Problem Statement 1\n",
    "Write a program which accepts a sequence of comma-separated numbers from console and generate a list."
   ]
  },
  {
   "cell_type": "code",
   "execution_count": 9,
   "metadata": {},
   "outputs": [
    {
     "name": "stdout",
     "output_type": "stream",
     "text": [
      "Please enter comma-separated numbers: 1,34,5,8,92\n",
      "Comma Separated List: [1, 34, 5, 8, 92]\n"
     ]
    }
   ],
   "source": [
    "numbers = input(\"Please enter comma-separated numbers: \")\n",
    "\n",
    "list_numbers = []\n",
    "for i in numbers.split(\",\"):\n",
    "    list_numbers.append(int(i))\n",
    "\n",
    "print(\"Comma Separated List:\", list_numbers)"
   ]
  },
  {
   "cell_type": "markdown",
   "metadata": {},
   "source": [
    "# Problem Statement 2\n",
    "Create the below pattern using nested for loop in Python.\n",
    "\n",
    "```\n",
    "*\n",
    "* *\n",
    "* * *\n",
    "* * * *\n",
    "* * * * *\n",
    "* * * *\n",
    "* * *\n",
    "* *\n",
    "*\n",
    "```"
   ]
  },
  {
   "cell_type": "code",
   "execution_count": 10,
   "metadata": {},
   "outputs": [
    {
     "name": "stdout",
     "output_type": "stream",
     "text": [
      "* \n",
      "* * \n",
      "* * * \n",
      "* * * * \n",
      "* * * * * \n",
      "* * * * \n",
      "* * * \n",
      "* * \n",
      "* \n"
     ]
    }
   ],
   "source": [
    "max_cols = 5\n",
    "\n",
    "row = 1\n",
    "while row <= max_cols:\n",
    "    col = 1\n",
    "    while col <= row:\n",
    "        print(\"* \", end=\"\")\n",
    "        col += 1\n",
    "    row += 1\n",
    "    print(\"\")\n",
    "\n",
    "row -= 2\n",
    "while row > 0:\n",
    "    col = 1\n",
    "    while col <= row:\n",
    "        print(\"* \", end=\"\")\n",
    "        col += 1\n",
    "    row -= 1\n",
    "    print(\"\")"
   ]
  },
  {
   "cell_type": "markdown",
   "metadata": {},
   "source": [
    "# Problem Statement 3\n",
    "Write a Python program to reverse a word after accepting the input from the user."
   ]
  },
  {
   "cell_type": "code",
   "execution_count": 11,
   "metadata": {},
   "outputs": [
    {
     "name": "stdout",
     "output_type": "stream",
     "text": [
      "Please enter anything: Kamlesh\n",
      "Reverse: hselmaK\n"
     ]
    }
   ],
   "source": [
    "user_input = input(\"Please enter anything: \")\n",
    "user_input = user_input.strip()\n",
    "print(\"Reverse:\", user_input[::-1])"
   ]
  },
  {
   "cell_type": "markdown",
   "metadata": {},
   "source": [
    "# Problem Statement 4\n",
    "Write a Python Program to print the given string in the format specified in the\n",
    "sample output.\n",
    "\n",
    "Sample Output:\n",
    "```\n",
    "WE, THE PEOPLE OF INDIA,\n",
    "    having solemnly resolved to constitute India into a SOVEREIGN, !\n",
    "        SOCIALIST, SECULAR, DEMOCRATIC\n",
    "          REPUBLIC and to secure to all its citizens\n",
    "```"
   ]
  },
  {
   "cell_type": "code",
   "execution_count": 12,
   "metadata": {},
   "outputs": [
    {
     "name": "stdout",
     "output_type": "stream",
     "text": [
      "WE, THE PEOPLE OF INDIA,\n",
      "\thaving solemnly resolved to constitute India into a SOVEREIGN, !\n",
      "\t\tSOCIALIST, SECULAR, DEMOCRATIC\n",
      "\t\t  REPUBLIC and to secure to all its citizens\n"
     ]
    }
   ],
   "source": [
    "print(\"WE, THE PEOPLE OF INDIA,\")\n",
    "print(\"\\thaving solemnly resolved to constitute India into a SOVEREIGN, !\")\n",
    "print(\"\\t\\tSOCIALIST, SECULAR, DEMOCRATIC\")\n",
    "print(\"\\t\\t  REPUBLIC and to secure to all its citizens\")"
   ]
  }
 ],
 "metadata": {
  "kernelspec": {
   "display_name": "Python 3",
   "language": "python",
   "name": "python3"
  },
  "language_info": {
   "codemirror_mode": {
    "name": "ipython",
    "version": 3
   },
   "file_extension": ".py",
   "mimetype": "text/x-python",
   "name": "python",
   "nbconvert_exporter": "python",
   "pygments_lexer": "ipython3",
   "version": "3.7.1"
  }
 },
 "nbformat": 4,
 "nbformat_minor": 2
}
