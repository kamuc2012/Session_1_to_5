{
 "cells": [
  {
   "cell_type": "markdown",
   "metadata": {},
   "source": [
    "# Problem Statement 1.1\n",
    "Write a Python Program(with class concepts) to find the area of the triangle using the below formula.\n",
    "\n",
    "area = (s*(s-a)*(s-b)*(s-c)) ** 0.5\n",
    "\n",
    "Function to take the length of the sides of triangle from user should be defined in the parent class and function to calculate the area should be defined in subclass."
   ]
  },
  {
   "cell_type": "code",
   "execution_count": 7,
   "metadata": {},
   "outputs": [
    {
     "name": "stdout",
     "output_type": "stream",
     "text": [
      "Aria of triangle is 14.696938456699069\n"
     ]
    }
   ],
   "source": [
    "class Triangle:\n",
    "    def __init__(self, a, b, c):\n",
    "        self.a = a\n",
    "        self.b = b\n",
    "        self.c = c\n",
    "        self.s = (self.a + self.b + self.c) / 2 # calculate the semi-perimeter\n",
    "\n",
    "class Area(Triangle):\n",
    "    def calculate(self):\n",
    "        return (self.s * (self.s - self.a) * (self.s - self.b) * (self.s - self.c)) ** 0.5\n",
    "\n",
    "obj = Area(5, 6, 7)\n",
    "print(\"Aria of triangle is {}\".format(obj.calculate()))"
   ]
  },
  {
   "cell_type": "markdown",
   "metadata": {},
   "source": [
    "# Problem Statement 1.2\n",
    "Write a function filter_long_words() that takes a list of words and an integer n and returns the list of words that are longer than n."
   ]
  },
  {
   "cell_type": "code",
   "execution_count": 8,
   "metadata": {},
   "outputs": [
    {
     "name": "stdout",
     "output_type": "stream",
     "text": [
      "List of words: ['My', 'Name', 'Is', 'Kamlesh']\n",
      "List of words having length greater than 4: ['Kamlesh']\n"
     ]
    }
   ],
   "source": [
    "def filter_words_by_length(list_of_words, n):\n",
    "    return_list = []\n",
    "    for i in list_of_words:\n",
    "        if len(i) > n:\n",
    "            return_list.append(i)\n",
    "\n",
    "    if len(return_list) == 0:\n",
    "        return \"None\"\n",
    "    else:\n",
    "        return return_list\n",
    "\n",
    "list_of_words = [\"My\", \"Name\", \"Is\", \"Kamlesh\"]\n",
    "n = 4\n",
    "\n",
    "print(\"List of words:\", list_of_words)\n",
    "print(\"List of words having length greater than {}:\".format(n), filter_words_by_length(list_of_words, n))"
   ]
  },
  {
   "cell_type": "markdown",
   "metadata": {},
   "source": [
    "# Problem Statement 2.1\n",
    "Write a Python program using function concept that maps list of words into a list of integers representing the lengths of the corresponding words .\n",
    "\n",
    "Hint: If a list [ ab,cde,erty] is passed on to the python function output should come as [2,3,4]\n",
    "\n",
    "Here 2,3 and 4 are the lengths of the words in the list."
   ]
  },
  {
   "cell_type": "code",
   "execution_count": 9,
   "metadata": {},
   "outputs": [
    {
     "name": "stdout",
     "output_type": "stream",
     "text": [
      "[2, 4, 2, 7]\n"
     ]
    }
   ],
   "source": [
    "def length_of_words(list_of_words):\n",
    "    return list(map(lambda x: len(x),list_of_words))\n",
    "\n",
    "list_of_words = [\"My\", \"Name\", \"Is\", \"Kamlesh\"]\n",
    "print(length_of_words(list_of_words))"
   ]
  },
  {
   "cell_type": "markdown",
   "metadata": {},
   "source": [
    "# Problem Statement 2.2\n",
    "Write a Python function which takes a character (i.e. a string of length 1) and returns True if it is a vowel, False otherwise."
   ]
  },
  {
   "cell_type": "code",
   "execution_count": 10,
   "metadata": {},
   "outputs": [
    {
     "name": "stdout",
     "output_type": "stream",
     "text": [
      "If 'A' is a vowel character: True\n"
     ]
    }
   ],
   "source": [
    "def is_vowel(ch):\n",
    "    if len(ch) == 1:\n",
    "        if ch.lower() in ['a', 'e', 'i', 'o', 'u']:\n",
    "            return True\n",
    "        else:\n",
    "            return False\n",
    "    else:\n",
    "        return False\n",
    "\n",
    "ch = 'A'\n",
    "print(\"If '{}' is a vowel character:\".format(ch), is_vowel(ch))"
   ]
  }
 ],
 "metadata": {
  "kernelspec": {
   "display_name": "Python 3",
   "language": "python",
   "name": "python3"
  },
  "language_info": {
   "codemirror_mode": {
    "name": "ipython",
    "version": 3
   },
   "file_extension": ".py",
   "mimetype": "text/x-python",
   "name": "python",
   "nbconvert_exporter": "python",
   "pygments_lexer": "ipython3",
   "version": "3.7.1"
  }
 },
 "nbformat": 4,
 "nbformat_minor": 2
}
