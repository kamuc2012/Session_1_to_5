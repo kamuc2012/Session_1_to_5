{
 "cells": [
  {
   "cell_type": "markdown",
   "metadata": {},
   "source": [
    "# Problem Statement 1.1\n",
    "Write a Python Program to implement your own myreduce() function which works exactly like Python's built-in function reduce()"
   ]
  },
  {
   "cell_type": "code",
   "execution_count": 11,
   "metadata": {},
   "outputs": [
    {
     "name": "stdout",
     "output_type": "stream",
     "text": [
      "Sum of the list: 15\n"
     ]
    }
   ],
   "source": [
    "# to do sum of two variables\n",
    "def do_sum(a, b):\n",
    "    return a + b\n",
    "\n",
    "# function will accept function and list and will work when list is not empty otherwise it returns None\n",
    "def myreduce(func, ls):\n",
    "    val = None\n",
    "    if len(ls) > 0:\n",
    "        val = ls[0]\n",
    "        for i in ls[1:]:\n",
    "            val = func(val, i)\n",
    "    return val\n",
    "\n",
    "ls = [1, 2, 3, 4, 5]\n",
    "print(\"Sum of the list:\", myreduce(do_sum, ls))"
   ]
  },
  {
   "cell_type": "markdown",
   "metadata": {},
   "source": [
    "# Problem Statement 1.2\n",
    "Write a Python program to implement your own myfilter() function which works exactly like Python's built-in function filter()"
   ]
  },
  {
   "cell_type": "code",
   "execution_count": 12,
   "metadata": {},
   "outputs": [
    {
     "name": "stdout",
     "output_type": "stream",
     "text": [
      "List of odd integers: [1, 3, 5]\n"
     ]
    }
   ],
   "source": [
    "# to check if number is odd or not\n",
    "def is_odd(a):\n",
    "    return a % 2\n",
    "\n",
    "# function will accept function and list and return the list (filtered) as output\n",
    "def myfilter(func, ls):\n",
    "    return_list = []\n",
    "    for i in ls:\n",
    "        if func(i):\n",
    "            return_list.append(i)\n",
    "    return return_list\n",
    "\n",
    "ls = [1, 2, 3, 4, 5]\n",
    "print(\"List of odd integers:\", myfilter(is_odd, ls))"
   ]
  },
  {
   "cell_type": "markdown",
   "metadata": {},
   "source": [
    "# Problem Statement 2\n",
    "Implement List comprehensions to produce the following lists."
   ]
  },
  {
   "cell_type": "code",
   "execution_count": 9,
   "metadata": {},
   "outputs": [
    {
     "name": "stdout",
     "output_type": "stream",
     "text": [
      "['A', 'C', 'A', 'D', 'G', 'I', 'L', 'D']\n",
      "['x', 'xx', 'xxx', 'xxxx', 'y', 'yy', 'yyy', 'yyyy', 'z', 'zz', 'zzz', 'zzzz']\n",
      "['x', 'y', 'z', 'xx', 'yy', 'zz', 'xx', 'yy', 'zz', 'xxxx', 'yyyy', 'zzzz']\n",
      "[[2], [3], [4], [3], [4], [5], [4], [5], [6]]\n",
      "[[2, 3, 4, 5], [3, 4, 5, 6], [4, 5, 6, 7], [5, 6, 7, 8]]\n",
      "[(1, 1), (1, 2), (1, 3), (2, 1), (2, 2), (2, 3), (3, 1), (3, 2), (3, 3)]\n"
     ]
    }
   ],
   "source": [
    "# ['A', 'C', 'A', 'D', 'G', 'I', ’L’, ‘ D’]\n",
    "list_1 = list(\"ACADGILD\")\n",
    "print(list_1)\n",
    "\n",
    "# ['x', 'xx', 'xxx', 'xxxx', 'y', 'yy', 'yyy', 'yyyy', 'z', 'zz', 'zzz', 'zzzz']\n",
    "list_2 = list(i*j for i in \"xyz\" for j in range(1,5))\n",
    "print(list_2)\n",
    "\n",
    "# ['x', 'y', 'z', 'xx', 'yy', 'zz', 'xx', 'yy', 'zz', 'xxxx', 'yyyy', 'zzzz']\n",
    "occurance = [1, 2, 2, 4]\n",
    "list_3 = list(i*j for i in occurance for j in \"xyz\")\n",
    "print(list_3)\n",
    "\n",
    "# [[2], [3], [4], [3], [4], [5], [4], [5], [6]]\n",
    "list_4 = list([i+j] for i in range(2,5) for j in range(0,3))\n",
    "print(list_4)\n",
    "\n",
    "# [[2, 3, 4, 5], [3, 4, 5, 6], [4, 5, 6, 7], [5, 6, 7, 8]]\n",
    "list_5 = list([i+j for i in range(2,6)] for j in range(0,4))\n",
    "print(list_5)\n",
    "\n",
    "# [(1, 1), (2, 1), (3, 1), (1, 2), (2, 2), (3, 2), (1, 3), (2, 3), (3, 3)]\n",
    "occurance = [1, 2, 3]\n",
    "list_6 = list((i, j) for i in occurance for j in occurance)\n",
    "print(list_6)"
   ]
  },
  {
   "cell_type": "markdown",
   "metadata": {},
   "source": [
    "# Problem Statement 3\n",
    "Implement a function longestWord() that takes a list of words and returns the longest one."
   ]
  },
  {
   "cell_type": "code",
   "execution_count": 13,
   "metadata": {},
   "outputs": [
    {
     "name": "stdout",
     "output_type": "stream",
     "text": [
      "List:  ['My', 'Name', 'Is', 'Kamlesh']\n",
      "The longest word from the list is: Kamlesh\n"
     ]
    }
   ],
   "source": [
    "def longestWord(ls):\n",
    "    if len(ls) > 0:\n",
    "        longest_word = ls[0]\n",
    "        for i in ls[1:]:\n",
    "            if len(i) > len(longest_word):\n",
    "                longest_word = i\n",
    "        return longest_word\n",
    "    else:\n",
    "        print(\"The list is empty!\")\n",
    "\n",
    "list_of_words = [\"My\", \"Name\", \"Is\", \"Kamlesh\"]\n",
    "print(\"List: \", list_of_words)\n",
    "print(\"The longest word from the list is:\", longestWord(list_of_words))"
   ]
  }
 ],
 "metadata": {
  "kernelspec": {
   "display_name": "Python 3",
   "language": "python",
   "name": "python3"
  },
  "language_info": {
   "codemirror_mode": {
    "name": "ipython",
    "version": 3
   },
   "file_extension": ".py",
   "mimetype": "text/x-python",
   "name": "python",
   "nbconvert_exporter": "python",
   "pygments_lexer": "ipython3",
   "version": "3.7.1"
  }
 },
 "nbformat": 4,
 "nbformat_minor": 2
}
